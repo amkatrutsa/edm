{
  "nbformat": 4,
  "nbformat_minor": 0,
  "metadata": {
    "colab": {
      "name": "MultiMNIST.ipynb",
      "provenance": [],
      "authorship_tag": "ABX9TyNsOK9oVTplxhXusOLq9g0P",
      "include_colab_link": true
    },
    "kernelspec": {
      "name": "python3",
      "display_name": "Python 3"
    }
  },
  "cells": [
    {
      "cell_type": "markdown",
      "metadata": {
        "id": "view-in-github",
        "colab_type": "text"
      },
      "source": [
        "<a href=\"https://colab.research.google.com/github/amkatrutsa/edm/blob/master/MultiMNIST.ipynb\" target=\"_parent\"><img src=\"https://colab.research.google.com/assets/colab-badge.svg\" alt=\"Open In Colab\"/></a>"
      ]
    },
    {
      "cell_type": "code",
      "metadata": {
        "id": "6gvfuTdqJwir",
        "colab_type": "code",
        "colab": {}
      },
      "source": [
        "# Code source: https://github.com/intel-isl/MultiObjectiveOptimization/tree/master/multi_task"
      ],
      "execution_count": 0,
      "outputs": []
    }
  ]
}